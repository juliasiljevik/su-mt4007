{
 "cells": [
  {
   "cell_type": "markdown",
   "id": "ba470aab-61a3-401b-96fc-249a3b44e70e",
   "metadata": {},
   "source": [
    "# Homework 1"
   ]
  },
  {
   "cell_type": "code",
   "execution_count": 8,
   "id": "bae9918a-acad-414d-ba75-39c582160b43",
   "metadata": {},
   "outputs": [
    {
     "name": "stdout",
     "output_type": "stream",
     "text": [
      "My name is Julia, I am 24 years old, and I am currently in my third year of the Bachelor program in Mathematical Economics and Statistics. In my free time, I enjoy running and   hanging out with friends.\n"
     ]
    }
   ],
   "source": [
    "text = \"My name is Julia, I am 24 years old, and I am currently in my third year of the Bachelor program in Mathematical Economics and Statistics. In my free time, I enjoy running and   hanging out with friends.\"\n",
    "print(text)"
   ]
  },
  {
   "cell_type": "code",
   "execution_count": 11,
   "id": "d067d7a1-e2bf-4d6d-bec2-5f4d638534cb",
   "metadata": {},
   "outputs": [
    {
     "name": "stdout",
     "output_type": "stream",
     "text": [
      "My previous experience with data science is that I have used R frequently in previous     courses, as well as worked a bit with Python in a prior course.\n"
     ]
    }
   ],
   "source": [
    "text2 = \"My previous experience with data science is that I have used R frequently in previous     courses, as well as worked a bit with Python in a prior course.\"\n",
    "print(text2) "
   ]
  },
  {
   "cell_type": "code",
   "execution_count": null,
   "id": "b5ff36c5-b280-4316-a982-3ea4ee4ba668",
   "metadata": {},
   "outputs": [],
   "source": []
  }
 ],
 "metadata": {
  "kernelspec": {
   "display_name": "Python 3 (ipykernel)",
   "language": "python",
   "name": "python3"
  },
  "language_info": {
   "codemirror_mode": {
    "name": "ipython",
    "version": 3
   },
   "file_extension": ".py",
   "mimetype": "text/x-python",
   "name": "python",
   "nbconvert_exporter": "python",
   "pygments_lexer": "ipython3",
   "version": "3.9.6"
  }
 },
 "nbformat": 4,
 "nbformat_minor": 5
}
