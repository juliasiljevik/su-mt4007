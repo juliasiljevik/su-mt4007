{
 "cells": [
  {
   "cell_type": "markdown",
   "id": "934c6af9-48c1-45c3-9167-c133c61316d9",
   "metadata": {},
   "source": [
    "# Första Set: Nyckeln Till Vinst?"
   ]
  },
  {
   "cell_type": "markdown",
   "id": "15d5b9cd-ebea-47cb-b298-2fe0f9718a22",
   "metadata": {},
   "source": [
    "# Introduktion:"
   ]
  },
  {
   "cell_type": "markdown",
   "id": "005ebdde-6ad9-4f0d-9424-9b513fa102e0",
   "metadata": {},
   "source": [
    "Tänk dig att du tittar på tennis – första set är avgjort, och en spelare har tagit ledningen. Är matchen då redan avgjord, eller kan en förlorare fortfarande vända på allt? Hur stor betydelse har egentligen ett tidigt övertag? Denna studie undersöker just denna fråga – om att vinna första set verkligen ökar chanserna att vinna hela matchen, och om det finns andra faktorer, som spelarnas ranking och erfarenhet, som påverkar resultatet. Genom att granska data från flera stora tennisturneringar över tid hoppas vi kunna få en förståelse för tennisens dynamik.\n",
    "\n",
    "* Är det möjligt att ett tidigt övertag i första set kan vara den avgörande faktorn som skiljer vinnare från förlorare? \n",
    "* Finns det faktorer som ålder, ranking, typ av tunering eller erfarenhet som har en betydenade roll för utfallet?\n",
    "\n",
    "**Hypotes:**\n",
    "Att vinna första set ökar sannolikheten för att vinna hela matchen. Med andra ord, sannolikheten att vinna matchen är högre om första set vinns än om det förloras.\n",
    "\n",
    "$H_0:P(\\text{Vinst match∣Vinst första set})>P(\\text{Vinst match∣Förlust första set})$\n"
   ]
  },
  {
   "cell_type": "markdown",
   "id": "7864dc55-8976-459f-a9c5-54d639ca571b",
   "metadata": {},
   "source": [
    "# Data:"
   ]
  },
  {
   "cell_type": "markdown",
   "id": "7458cd17-e758-4719-85cb-f1ed7e90b973",
   "metadata": {},
   "source": [
    "I denna studie användes omfattande data från två huvudsakliga källor för att analysera tennismatcher. Matchresultat, resultat efter första set och andra relevanta variabler samlades in från den officiella ATP-webbplatsen och ITF:s Tennis Juniorer-kalender. Dessa källor tillhandahöll högkvalitativ information om spelarnas prestationer och turneringsresultat.\n",
    "\n",
    "Datainsamlingen fokuserade främst på år 2024, men för att få en bredare och mer långsiktig analys inkluderades även data från tidigare år, nämligen 2014 och 2004. Detta möjliggjorde jämförelser över tid för att identifiera eventuella trender och förändringar i hur resultatet av första set påverkar chanserna att vinna hela matchen. Den insamlade datan omfattade matchresultat, resultat från första set, typ av underlag som matchen spelades på, samt vilken typ av turnering datan hämtades från.\n",
    "\n",
    "Insamlad data hanterades manuellt genom att organiseras i ett kalkylark, varefter kalkylarket exporterades som en CSV-fil. Denna fil laddades in och bearbetades vidare med hjälp av Python i Jupyter Notebook för att möjliggöra en strukturerad och effektiv analys.\n",
    "\n",
    "\n",
    "\n",
    "\n",
    "\n",
    "\n",
    "\n",
    "Vi har också beaktat hur dessa samband kan skilja sig beroende på spelarnas ranking och erfarenhet, med data från olika nivåer av tävling och över flera tidsperioder. Alla de undersökta matcherna och turneringarna har varit av samma typ, nämligen inomhusturneringar på hard court. Detta val gjordes för att säkerställa en rättvis jämförelse, där både spelare befann sig på samma nivå och förhållandena var identiska. Genom att eliminera faktorer som olika underlag och väderförhållanden kunde vi få en mer pålitlig bild av resultaten. För att förstå om eventuella trender har förändrats över tid, jämförde vi även data från samma turneringar med tioårsintervall. Vidare analyserade vi data från olika nivåer av tävling och undersökte om det fanns någon koppling mellan spelarnas ranking och deras prestationer efter att ha vunnit första set.\n",
    "\n",
    "För att undersöka hypotesen att den spelare som vinner första set också vinner hela matchen, genomfördes en omfattande datainsamling från flera tennisturneringar. Målet var att skapa ett brett och representativt underlag där resultaten inte påverkas av irrelevanta faktorer som underlag, spelplats eller spelnivå. Analysen omfattar olika turneringar och tidsperioder för att säkerställa både robusthet och möjligheten att identifiera trender.\n",
    "\n",
    "Den första fasen av datainsamlingen fokuserade på Stockholm Open, en inomhusturnering som spelas på hard court. Data samlades in från tre olika år – 2004, 2014 och 2024 – för att analysera om resultaten varierat över tid eller om de varit konsekventa. Genom att välja en turnering med stabila förutsättningar och liknande nivå på deltagarna kunde eventuella tidsrelaterade trender identifieras och tas i beaktande. Denna tidsmässiga jämförelse möjliggjorde också en undersökning av om vissa mönster, som korrelationen mellan att vinna första set och matchen, har förändrats över decennier.\n",
    "\n",
    "För att bredda analysen inkluderades data från Dallas Open 2024, en turnering som också spelas inomhus och på hard court. Dallas Open valdes eftersom den har liknande förutsättningar som Stockholm Open, vilket möjliggör relevanta jämförelser mellan de två turneringarna. Genom att inkludera två separata evenemang med samma underlag och spelmiljö kunde effekterna av faktorer som yttre påverkan och underlagsvariationer minimeras, vilket bidrar till att resultaten blir mer tillförlitliga.\n",
    "\n",
    "Vidare inkluderades data från Pace Salk Open 2024, en ungdomsturnering som spelas inomhus på hard court. Syftet med denna del av insamlingen var att undersöka skillnader mellan juniorer och professionella spelare. Genom att analysera ungdomars matchresultat kunde en jämförelse göras mellan hur olika nivåer av erfarenhet och professionalism påverkar förmågan att behålla en fördel efter att ha vunnit första set. Detta tillägg till analysen gav en spännande dimension där inte bara professionell nivå undersöktes, utan även ålders- och erfarenhetsrelaterade faktorer.\n",
    "\n",
    "Utöver turneringsspecifik data samlades också information in om de 20 högst rankade spelarna i världen. Här låg fokus på att studera deras vinstprocent efter att ha vunnit respektive förlorat första set. Syftet var att analysera om det finns ett samband mellan spelarnas ranking och deras förmåga att både prestera starkt i första set och att avgöra matcher till sin fördel, även under svårare omständigheter. Denna del av analysen bidrog till att identifiera individuella skillnader och mönster på elitnivå.\n",
    "\n",
    "Slutligen inkluderades data från de fyra Grand Slam-turneringarna mellan 2014 och 2024. Dessa turneringar valdes eftersom de representerar den högsta nivån inom professionell tennis och samlar världens bästa spelare. Grand Slam-turneringarna spelas på olika underlag – gräs, grus och hard court – vilket möjliggjorde en analys av hur underlag påverkar matchresultaten. Genom att inkludera dessa turneringar kunde skillnader mellan de största tävlingarna och mindre turneringar, som Stockholm Open och Dallas Open, också undersökas.\n",
    "\n",
    "Genom denna omfattande och varierade datainsamling skapades ett rikt underlag som möjliggjorde flera intressanta analyser. Kombinationen av olika turneringar, underlag, spelnivåer och tidsperioder bidrog till en djupare förståelse för vilka faktorer som påverkar utfallet av en tennismatch. Det omfattande materialet möjliggör inte bara en analys av hypotesen, utan även en bredare jämförelse mellan spelarnivåer, turneringstyper och tidsrelaterade trender inom professionell tennis."
   ]
  },
  {
   "cell_type": "markdown",
   "id": "8da83719-db51-4ce5-b7f9-7ad89787d63b",
   "metadata": {},
   "source": [
    "# Metod:"
   ]
  },
  {
   "cell_type": "markdown",
   "id": "06286327-42d7-4486-a940-3e005d768c01",
   "metadata": {},
   "source": [
    "För att undersöka hur en vinst i första set påverkar chanserna att vinna hela matchen, användes data från två huvudsakliga källor: den officiella ATP-webbplatsen och ITF:s Tennis Juniorer-kalender. Dessa källor gav omfattande information om tennismatcher, inklusive matchresultat, resultat efter första set, spelarnas rankning och andra relevanta variabler. Syftet var att skapa ett rikt datamaterial som möjliggör analys av hypotesen att den spelare som vinner första set har en högre sannolikhet att vinna hela matchen.\n",
    "\n",
    "**Dataurval och källor:**\n",
    "\n",
    "Data samlades in från flera turneringar och tidsperioder för att säkerställa representativitet och robusthet i analysen. Turneringarna valdes utifrån specifika kriterier:\n",
    "\n",
    "**Stockholm Open (2004, 2014, 2024):** Inomhusturnering på hard court, för att analysera trender över tid.\n",
    "\n",
    "**Dallas Open (2024):** En annan inomhusturnering på hard court för att möjliggöra jämförelser mellan olika evenemang med liknande förutsättningar.\n",
    "\n",
    "**Pace Salk Open (2024):** En ungdomsturnering för att undersöka skillnader mellan juniorer och professionella spelare.\n",
    "\n",
    "**Grand Slam-turneringar (2014–2024):** Representerar den högsta nivån inom tennis och inkluderar matcher spelade på olika underlag (gräs, grus och hard court).\n",
    "\n",
    "Dessa turneringar valdes för att inkludera både elitnivå och ungdomsnivå samt för att undersöka potentiella skillnader mellan olika spelnivåer, underlag och tidsperioder.\n",
    "\n",
    "**Datainsamling och bearbetning:**\n",
    "Data samlades initialt in manuellt och organiserades i ett kalkylark, där matchresultat och första set-resultat registrerades. Därefter exporterades kalkylarket som en CSV-fil och bearbetades i Jupyter Notebook med hjälp av Python. För att underlätta analysen kodades resultaten på följande sätt:\n",
    "\n",
    "Första set: Om en spelare vann första set sattes värdet till 1; annars 0.\n",
    "\n",
    "Matchresultat: Om en spelare vann hela matchen sattes värdet till 1; annars 0.\n",
    "\n",
    "Genom att kombinera dessa två variabler kunde vi tydligt identifiera vilka spelare som både vann första set och hela matchen, vilket utgjorde en central del i vår undersökning. Exempelvis kunde en spelare med en 1:a för både första set och matchresultat anses ha vunnit matchen efter att ha tagit ledningen tidigt. Denna grundstruktur användes för att analysera sannolikheten att vinna hela matchen baserat på resultatet av första set.\n",
    "\n",
    "**Analysmetoder:**\n",
    "Data analyserades med hjälp av Python och inkluderade statistiska metoder för att identifiera samband mellan första set och matchresultat. Analyserna fokuserade på att:\n",
    "\n",
    "Beräkna sannolikheten att vinna hela matchen efter att ha vunnit första set.\n",
    "Jämföra olika nivåer av tävling och spelarrankningar.\n",
    "Identifiera potentiella skillnader mellan underlag och turneringstyper.\n",
    "Kontroll av yttre faktorer\n",
    "För att minimera påverkan av externa faktorer inkluderades endast inomhusturneringar på hard court i huvudanalysen, med undantag för Grand Slam-turneringarna, där även andra underlag beaktades. Detta bidrog till att skapa mer pålitliga resultat genom att eliminera variationer som kan bero på olika yttre förhållanden.\n",
    "\n",
    "Genom denna metod kunde vi skapa en robust grund för att undersöka hypotesen och få en djupare förståelse för vilka faktorer som påverkar utfallet av en tennismatch."
   ]
  },
  {
   "cell_type": "markdown",
   "id": "618ef986-218f-4aed-a614-017f9b698e01",
   "metadata": {},
   "source": [
    "**Resultat:**"
   ]
  },
  {
   "cell_type": "markdown",
   "id": "1422d246-e9e5-44c1-af55-d9939724492a",
   "metadata": {},
   "source": [
    "I denna sektion presenterar vi resultaten från vår analys av hur att vinna första set påverkar sannolikheten att vinna hela matchen. Vi har undersökt samband mellan första set-vinster och matchresultat över flera turneringar och tidsperioder, med fokus på både statistiska trender och visuella mönster. Genom att analysera data på olika nivåer, från professionella till juniorer, och jämföra spelarnas ranking och prestationer, får vi en helhetsbild av betydelsen av att ta ett tidigt övertag i tennismatcher. Resultaten belyser både generella tendenser och intressanta avvikelser som bidrar till en djupare förståelse för matchdynamikens roll inom tennis."
   ]
  },
  {
   "cell_type": "markdown",
   "id": "f946527f-61a7-4b4a-889b-e7d47080430a",
   "metadata": {},
   "source": [
    "# Grundtabell: "
   ]
  },
  {
   "cell_type": "markdown",
   "id": "15bb301d-56b6-4707-a89d-b9dec20be2ad",
   "metadata": {},
   "source": [
    "![Exempelbild](Grundtabelltennis.jpg)"
   ]
  },
  {
   "cell_type": "markdown",
   "id": "e44a0d9d-7e03-4d6f-a180-318e74d99bee",
   "metadata": {},
   "source": [
    "Grundtabellen sammanställer data från de olika turneringarna och innehåller variabler som turnering, år, underlag, spelarnivå, samt resultat för första set och hela matchen. För varje spelare har vi angett ett binärt värde (1 för vinst, 0 för förlust) för både första set och matchresultat. Denna tabell ger en översikt som används för att analysera sambandet mellan att vinna första set och att vinna matchen."
   ]
  },
  {
   "cell_type": "markdown",
   "id": "dd51eed4-d47d-4c41-9f56-2c4f0d05efa4",
   "metadata": {},
   "source": [
    "# Cirkeldiagram:"
   ]
  },
  {
   "cell_type": "markdown",
   "id": "deb29ffd-f689-45d8-aaa8-68abbe9f07cb",
   "metadata": {},
   "source": [
    "![Exempelbild](Cirklediagramgrunddata.jpg)"
   ]
  },
  {
   "cell_type": "markdown",
   "id": "db981e84-6693-4d6e-b689-b05f0cd5ab25",
   "metadata": {},
   "source": [
    "Cirkeldiagramet illustrerar resultaten för spelare som vann första set i tennismatcher. Av diagrammet framgår det att en betydande majoritet, 86%, av dessa spelare också vann hela matchen, medan endast 14% förlorade matchen trots att de tog hem första set. Dessa resultat indikerar att vinna första set ger ett tydligt övertag och ofta är en stark indikator på den slutliga matchutgången. Den höga andelen av matchvinster bland första set-vinnare kan tyda på att det första setet sätter tonen för resten av matchen, antingen genom att bygga självförtroende hos vinnaren eller genom att skapa ett psykologiskt tryck på motståndaren. \n",
    "\n",
    "I vår grunddata genomfördes även ett Chi-squared test för att undersöka sambandet mellan att vinna första set och att vinna hela matchen. Resultatet av detta test visade en statistiskt signifikant skillnad, vilket innebär att det finns ett starkt samband mellan att vinna första set och sannolikheten att vinna matchen. Detta stödjer hypotesen att första set kan ha en avgörande inverkan på matchens utfall. Chi-squared testet indikerade att förhållandet mellan de två variablerna (vinst i första set och vinst i matchen) inte är slumpmässigt, utan snarare ett mönster som tyder på att den spelare som vinner första set har en markant högre sannolikhet att också vinna hela matchen.\n",
    "\n",
    "Resultat från Chi-squared test: \n",
    "Chi2-statistik: 166.9390243902439\n",
    "P-värde: 3.4494425112363155e-38"
   ]
  },
  {
   "cell_type": "markdown",
   "id": "131297d8-feaf-4658-b444-bb66da522f90",
   "metadata": {},
   "source": [
    "# Jämför STOCKHOLM OPEN 2024,2014 och 2004"
   ]
  },
  {
   "cell_type": "markdown",
   "id": "6d4a252d-94cb-44f2-94c0-e93712ae6031",
   "metadata": {},
   "source": [
    "![Exempelbild](StockholmOpenMellan.jpg)"
   ]
  },
  {
   "cell_type": "markdown",
   "id": "c7e342ae-b748-4ff1-9a19-f06e9a44eb68",
   "metadata": {},
   "source": [
    "Stapeldiagramen visar fördelningen av matchresultat för spelare som antingen vann eller förlorade första set i Stockholm Open under åren 2004, 2014 och 2024. Diagrammet är uppdelat i två kategorier för varje år: spelare som vann första set och spelare som förlorade första set. Procentandelarna som visas representerar hur ofta dessa spelare också vann eller förlorade hela matchen.\n",
    "\n",
    "Vinnare av första set (grön stapel):\n",
    "I samtliga analyserade år är en klar majoritet av de som vann första set också de som vann hela matchen. Detta mönster är stabilt över tid, vilket indikerar att första set spelar en avgörande roll i att förutspå matchens slutresultat. Proportionerna är nästan identiska för åren 2004, 2014 och 2024, vilket tyder på en konsekvent trend.\n",
    "\n",
    "Förlorare av första set (röd stapel):\n",
    "För de spelare som förlorade första set är sannolikheten att vinna matchen betydligt lägre. Här ser vi en liknande stabilitet över de tre tidsperioderna – spelare som förlorar första set har svårt att vända matchen.\n",
    "\n",
    "Diagrammet indikerar ingen större förändring i förhållandet mellan att vinna första set och vinna matchen över åren. Detta kan tyda på att första set alltid har haft en stark betydelse för matchutfallet, oavsett förändringar i spelstil, teknologi eller andra faktorer inom tennisen. Stapeldiagrammet understryker det starka sambandet mellan att vinna första set och att vinna matchen. De jämna mönstren över åren visar på en konsistens i hur matchutgångar påverkas av det första setets resultat, vilket gör detta samband till en viktig faktor att beakta i analysen av tennismatcher.\n",
    "\n",
    "Ett T-test gjordes även mellan 2004, 2014 och 2024 men de visade inga statistiskt signifikanta skillnader i sambandet mellan att vinna första set och hela matchen. P-värdena var alla över 0.05: mellan 2004 och 2014 var p-värdet 0.71, mellan 2014 och 2024 var det 0.16, och mellan 2004 och 2024 var det 0.29. Detta indikerar att effekten av att vinna första set som en indikator på matchresultatet har varit konstant över dessa år.\n",
    "\n",
    "**Resultat från T-test:**\n",
    "\n",
    "T-test mellan 2004 och 2014: t-stat = 0.37722657750825556 , p-värde = 0.7067065542726787\n",
    "\n",
    "T-test mellan 2014 och 2024: t-stat = -1.4252192813739226 , p-värde = 0.15649034144329893\n",
    "\n",
    "T-test mellan 2004 och 2024: t-stat = -1.0518776340621014 , p-värde = 0.29469410160584336"
   ]
  },
  {
   "cell_type": "markdown",
   "id": "25aa157f-7e6a-4c1b-884f-268a8b5e6ee3",
   "metadata": {},
   "source": [
    "# Stockholm Open vs Pace Salk open"
   ]
  },
  {
   "cell_type": "markdown",
   "id": "6d08dcb3-7ff7-4f95-b110-84167a80cd3e",
   "metadata": {},
   "source": [
    "![Exempelbild](StockholmvsPaceSalk.jpg)"
   ]
  },
  {
   "cell_type": "markdown",
   "id": "d22c8c32-d1c4-4619-bb55-58d39379d1ad",
   "metadata": {},
   "source": [
    "Resultaten, som framgår i cirkeldiagrammet, visar att även bland juniorer är det en majoritet som vinner hela matchen efter att ha vunnit första set. Detta tyder på att det inte finns någon märkbar skillnad mellan juniorer och vuxna spelare när det gäller betydelsen av att vinna första set för att säkra matchen."
   ]
  },
  {
   "cell_type": "markdown",
   "id": "5755e801-faf8-4665-b790-f0f89d2897c6",
   "metadata": {},
   "source": [
    "# Vinstprocent efter att ha vunnit första set Vs Rank"
   ]
  },
  {
   "cell_type": "markdown",
   "id": "420fdd43-d0c3-404d-b130-c743f2dbdda4",
   "metadata": {},
   "source": [
    "![Exempelbild](Scatterplott.jpg)"
   ]
  },
  {
   "cell_type": "markdown",
   "id": "1c35bbbb-fb65-4d42-89e7-971d366cade8",
   "metadata": {},
   "source": [
    "Scatterploten visar sambandet mellan spelarnas rankning och deras vinstprocent efter att ha vunnit första set. Rankningen anges på y-axeln (lägre värde innebär högre rankning), och vinstprocenten visas på x-axeln. Diagrammet visar att högre rankade spelare tenderar att ha en högre vinstprocent efter att ha vunnit första set. Topp-rankade spelare (t.ex. rank 1–5) har konsekvent vinstprocenter över 90 %, vilket indikerar deras förmåga att omvandla en ledning från första set till en matchseger.\n",
    "\n",
    "För spelare med lägre rankning (t.ex. rank 10–20) varierar vinstprocenten mer, vilket tyder på mindre förutsägbara prestationer. Bland de lägre rankade spelarna ser vi att några har en vinstprocent så låg som 73–75 %, trots att de vunnit första set, vilket antyder svårigheter att hålla sin ledning. Diagrammet indikerar en negativ korrelation mellan rankning och vinstprocent, där högre rankade spelare är mer konsekventa och effektiva. Sammanfattningsvis visar scatterplotten att rankning har en stark inverkan på sannolikheten att vinna matchen efter att ha vunnit första set, där högre rankade spelare är mer stabila i sina prestationer."
   ]
  },
  {
   "cell_type": "markdown",
   "id": "38986e21-a29b-45aa-a73d-83638c8afd60",
   "metadata": {},
   "source": [
    "# Gram Slam från 2014 till 2024"
   ]
  },
  {
   "cell_type": "markdown",
   "id": "73094e20-6e9f-4278-818a-c3547b3ea807",
   "metadata": {},
   "source": [
    "![Exempelbild](GramSlam.jpg)"
   ]
  },
  {
   "cell_type": "markdown",
   "id": "9a45e097-9714-4ab5-824c-e12507f7e598",
   "metadata": {},
   "source": [
    "Datat är hämtat från alla fyra Grand Slam-turneringarna som hålls årligen inom tennisen, och omfattar perioden mellan 2014 och 2024, vilket ger oss en tioårsperiod att analysera. Syftet har varit att undersöka om spelarnas rankning påverkar utfallet av matchen efter att ha vunnit första set. Precis som tidigare har vi kodifierat resultatet med en 1 för spelare som vunnit första set och en 0 för de som förlorade första set, samma kodning har använts för matchresultatet.\n",
    "\n",
    "Vidare har vi även inkluderat spelarens rankning vid vinst (\"Rank Winner\") och förlust (\"Rank Loser\"), samt skillnaden mellan dessa rankningar, benämnd \"Rank Difference\". Om värdet för \"Rank Difference\" är negativt innebär det att den spelare med den lägre (dvs. bättre) rankningen vann matchen. Denna uppdelning gör det möjligt att noggrant analysera hur rankningen hos både vinnare och förlorare påverkar resultatet efter att första set har vunnits."
   ]
  },
  {
   "cell_type": "markdown",
   "id": "995ea8d3-3904-4a52-b515-15d0b33474d9",
   "metadata": {},
   "source": [
    "# Bättre Ranking vs Sämre Ranking"
   ]
  },
  {
   "cell_type": "markdown",
   "id": "c6bd819a-f92a-45dd-848a-67e2ed658c20",
   "metadata": {},
   "source": [
    "![Exempelbild](Ranking.jpg)"
   ]
  },
  {
   "cell_type": "markdown",
   "id": "2ee7d41d-af0f-4665-b005-c151340390ee",
   "metadata": {},
   "source": [
    "De två stapeldiagrammen visar resultaten av vår analys, där vi jämförde spelare som vann både första set och matchen, med deras respektive ranking. Det är tydligt från diagrammen att stapeln för spelare med bättre ranking är högre, vilket tyder på att fler spelare med högre ranking (lägre rankningsnummer) både vann första set och gick vidare till att vinna hela matchen. Detta mönster indikerar att högre rankade spelare generellt har större sannolikhet att omvandla en ledning från första set till en matchseger, vilket stödjer hypotesen om att spelarnas ranking har en betydande påverkan på deras prestationer och förmåga att vinna hela matchen efter att ha tagit hem första set. De lägre staplarna för spelare med sämre ranking visar att dessa spelare är mer benägna att förlora matchen trots att de vunnit första set, vilket reflekterar en större osäkerhet och lägre förmåga att kapitalisera på denna initiala fördel. \n",
    "\n",
    "Sedan gjordes även en analys för att undersöka sambandet mellan spelarnas ranking och deras framgång i att vinna både första set och matchen. Resultatet visade att 71,88% av de spelare som vann både första set och matchen hade en bättre ranking än sin motståndare. Detta tyder på att spelare med högre ranking ofta har en fördel i att konvertera en tidig ledning till en slutlig matchvinst."
   ]
  },
  {
   "cell_type": "markdown",
   "id": "ffb456ac-0684-4365-9c3c-8346d4a10540",
   "metadata": {},
   "source": [
    "# Diskussion"
   ]
  },
  {
   "cell_type": "markdown",
   "id": "921fc24c-a549-48d3-87f4-d97c316587a6",
   "metadata": {},
   "source": [
    "\n",
    "\n",
    "En av de mest framträdande resultaten i vår studie är att en betydande majoritet av spelarna som vinner första set också vinner hela matchen. Detta resultat bekräftar den initiala hypotesen om att vinna första set ökar sannolikheten för att vinna matchen. De statistiska analyserna och det höga procentuella resultatet visar att det första setet verkar fungera som en viktig indikator på den slutliga matchutfallet. Dessa resultat stärker teorin om att det första setet skapar ett mentalt övertag, vilket gör att vinnaren känner en ökad känsla av självförtroende och kan kontrollera matchens tempo, vilket påverkar deras prestationer under de följande seten.\n",
    "\n",
    "Vår analys, inklusive chi-två och t-test, stödjer även detta samband, eftersom den statistiska signifikansen visade att det inte fanns några starka indikationer på att tidsperioden (2004–2024) eller skillnader i spelarnivåer (proffs kontra juniorer) skulle förändra detta mönster på ett avgörande sätt. Detta tyder på att oavsett om vi ser på spelare från olika decennier eller på juniorer kontra professionella spelare, så är förmågan att omvandla en vinst i första set till en matchseger en relativt stabil och generell trend.\n",
    "\n",
    "Trots detta bör vi inte förbise den minoritet av matcher där spelare som vunnit första set ändå förlorade matchen (ca 14%). Detta visar att det finns faktorer som kan motverka det mentala övertaget som första set innebär. Det kan vara att motståndaren anpassar sig taktiskt under matchens gång, att spelaren som ledde tappar fokus eller att fysiska eller psykologiska faktorer påverkar prestationerna. Dessa observationer öppnar upp för ytterligare diskussion om hur olika typer av spelare hanterar förändrade omständigheter under en match, och det skulle vara intressant att analysera dessa fall närmare för att förstå varför dessa vändningar inträffar.\n",
    "\n",
    "När vi undersökte skillnader mellan spelare på olika rankningsnivåer, såg vi att spelare med högre rankning (dvs. bättre rank) tenderar att vara mer konsekventa i att vinna efter att ha vunnit första set. Detta stöds av vår scatterplot, som visade att topp-rankade spelare (1–5) har en mycket högre vinstprocent jämfört med spelare på lägre rankning. Detta resultat bekräftar teorin om att erfarenhet och mentalt starka spelare är bättre rustade att hantera pressen och utnyttja en tidig ledning. Denna observation ger ytterligare tyngd åt antagandet att rankning och erfarenhet spelar en viktig roll i hur effektivt en spelare kan omvandla en ledning från första set till en matchvinst.\n",
    "\n",
    "Resultaten från ungdomsturneringarna visade inga signifikanta skillnader mellan juniorer och vuxna spelare när det gäller att vinna efter första set. Detta tyder på att det inte finns en direkt skillnad i prestationer beroende på spelarens ålder eller erfarenhet, åtminstone inte när vi ser på dessa specifika data. Juniorer tycks alltså kunna utnyttja en första set-seger på ett liknande sätt som professionella spelare. Dock är det viktigt att komma ihåg att dessa resultat inte nödvändigtvis speglar den större populationen av juniorer, och det skulle vara intressant att bredda denna analys genom att inkludera fler juniorturneringar på olika nivåer för att undersöka eventuella skillnader ytterligare.\n",
    "\n",
    "En annan observation i våra resultat är att när vi jämförde olika årtal och turneringar såg vi inget signifikant resultat som tyder på att relationen mellan att vinna första set och vinna hela matchen har förändrats över tid. Detta tyder på att även om tennis har utvecklats teknologiskt och strategiskt, har den grundläggande dynamiken i matcherna förblivit stabil när det gäller att omvandla en vinst i första set till en hel matchseger.\n",
    "\n",
    "En begränsning i vår studie är att vi har fokuserat på inomhusturneringar på hard court, vilket innebär att vi inte kan dra definitiva slutsatser om hur samma samband skulle fungera under andra förhållanden, exempelvis utomhus eller på andra underlag som grus eller gräs. Det skulle vara intressant att utöka forskningen för att inkludera fler variabler som väderförhållanden och underlag, vilket skulle kunna påverka resultaten.\n",
    "\n",
    "En annan metodologisk aspekt är den användning av rankningar som vi använde för att jämföra spelare och deras prestationer. Även om vi har tittat på både rankade och lägre rankade spelare, kan det vara intressant att undersöka om spelarnas erfarenhet på olika nivåer av tävling påverkar deras förmåga att omvandla en ledning från första set till en matchvinst. Det är möjligt att spelare på högre nivåer, med större erfarenhet och rutin, har bättre förmåga att bibehålla fokus och prestera konsekvent, medan lägre rankade spelare kanske är mer benägna att förlora sin ledning."
   ]
  },
  {
   "cell_type": "markdown",
   "id": "031bd55b-a7ad-43df-a16e-0ca394c10ec4",
   "metadata": {},
   "source": [
    "# Slutsats: "
   ]
  },
  {
   "cell_type": "markdown",
   "id": "5e314e5b-1962-4b3f-9c42-dca933fcf62e",
   "metadata": {},
   "source": [
    "I denna studie har vi undersökt sambandet mellan att vinna första set och att vinna hela matchen inom professionell tennis, med målet att testa vår hypotes: Att vinna första set ökar sannolikheten för att vinna hela matchen. Med andra ord, sannolikheten att vinna matchen är högre om första set vinns än om det förloras.\n",
    "\n",
    "Våra resultat stödjer denna hypotes. Dataanalysen visade tydligt att en spelare som vinner första set har en avsevärt högre sannolikhet att också vinna hela matchen, vilket framgick både i statistiska tester och visuella diagram. Detta samband var särskilt uttalat hos högre rankade spelare, som visade sig vara mer konsekventa i att omvandla en första set-seger till en matchvinst.\n",
    "\n",
    "Vi kunde också identifiera att för spelare med lägre ranking var variationen i matchresultaten större, vilket tyder på att även om de vinner första set, är deras chanser att vinna hela matchen inte lika stabila som för de högre rankade spelarna.\n",
    "\n",
    "Sammanfattningsvis bekräftar resultaten vår hypotes: att vinna första set ökar sannolikheten för att vinna hela matchen, och denna fördel är mer uttalad för högre rankade spelare. Därmed kan vi med tillförsikt säga att att vinna första set är en stark indikator för en spelare att vinna hela matchen."
   ]
  },
  {
   "cell_type": "markdown",
   "id": "b0056a3c-f3b3-49c9-89eb-77586fbe674a",
   "metadata": {},
   "source": [
    "# Referenser:"
   ]
  },
  {
   "cell_type": "markdown",
   "id": "433e6a1d-35dc-45a0-9f1e-1def1d2cd8be",
   "metadata": {},
   "source": [
    "-  ITF:s Tennis Juniorer-kalender (https://www.itftennis.com/en/tournament-calendar/world-tennis-tour-juniors-calendar/?categories=All&startdate=2024-12)"
   ]
  },
  {
   "cell_type": "markdown",
   "id": "0b52f988-d2f0-49e0-b6af-79ea1a239be3",
   "metadata": {},
   "source": [
    "- Officiella ATP-webbplatsen (https://www.atptour.com/en)"
   ]
  }
 ],
 "metadata": {
  "kernelspec": {
   "display_name": "Python 3 (ipykernel)",
   "language": "python",
   "name": "python3"
  },
  "language_info": {
   "codemirror_mode": {
    "name": "ipython",
    "version": 3
   },
   "file_extension": ".py",
   "mimetype": "text/x-python",
   "name": "python",
   "nbconvert_exporter": "python",
   "pygments_lexer": "ipython3",
   "version": "3.9.6"
  }
 },
 "nbformat": 4,
 "nbformat_minor": 5
}
